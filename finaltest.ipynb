{
 "cells": [
  {
   "cell_type": "code",
   "execution_count": 61,
   "metadata": {},
   "outputs": [],
   "source": [
    "import numpy as np\n",
    "import pandas as pd\n",
    "import matplotlib.pyplot as plt\n",
    "from sklearn.metrics import classification_report, accuracy_score,precision_score,recall_score\n",
    "from sklearn.ensemble import IsolationForest\n",
    "from sklearn.metrics import f1_score, make_scorer, confusion_matrix, ConfusionMatrixDisplay, average_precision_score, precision_recall_curve"
   ]
  },
  {
   "cell_type": "code",
   "execution_count": 62,
   "metadata": {},
   "outputs": [],
   "source": [
    "def plot_conf_mat(label, pred):\n",
    "    font = {'family' : 'normal', 'weight' : 'bold', 'size'   : 20}\n",
    "    plt.rc('font', **font)\n",
    "    disp = ConfusionMatrixDisplay(confusion_matrix=confusion_matrix(label, pred),display_labels=['frauds', 'normal'])\n",
    "    disp.plot(colorbar=False)\n",
    "    plt.show()\n",
    "    return confusion_matrix(label, pred)"
   ]
  },
  {
   "cell_type": "code",
   "execution_count": 105,
   "metadata": {},
   "outputs": [],
   "source": [
    "df = pd.read_csv('cc_test.csv')"
   ]
  },
  {
   "cell_type": "code",
   "execution_count": 106,
   "metadata": {},
   "outputs": [
    {
     "data": {
      "text/plain": [
       "0.0018835410571875126"
      ]
     },
     "execution_count": 106,
     "metadata": {},
     "output_type": "execute_result"
    }
   ],
   "source": [
    "fraud = df[df['Class'] == 1] # Number of fraudulent transactions\n",
    "valid = df[df['Class'] == 0] # Number of valid transactions\n",
    "outlier_fraction = len(fraud)/float(len(valid))\n",
    "outlier_fraction"
   ]
  },
  {
   "cell_type": "code",
   "execution_count": 107,
   "metadata": {},
   "outputs": [
    {
     "name": "stderr",
     "output_type": "stream",
     "text": [
      "/var/folders/j7/tcvrqq197f903fg44bqljhvc0000gn/T/ipykernel_3569/2164537383.py:3: SettingWithCopyWarning: \n",
      "A value is trying to be set on a copy of a slice from a DataFrame\n",
      "\n",
      "See the caveats in the documentation: https://pandas.pydata.org/pandas-docs/stable/user_guide/indexing.html#returning-a-view-versus-a-copy\n",
      "  y[y==1]=-1\n",
      "/var/folders/j7/tcvrqq197f903fg44bqljhvc0000gn/T/ipykernel_3569/2164537383.py:4: SettingWithCopyWarning: \n",
      "A value is trying to be set on a copy of a slice from a DataFrame\n",
      "\n",
      "See the caveats in the documentation: https://pandas.pydata.org/pandas-docs/stable/user_guide/indexing.html#returning-a-view-versus-a-copy\n",
      "  y[y==0]=1\n"
     ]
    }
   ],
   "source": [
    "X = df.drop('Class',axis = 1) # X is input\n",
    "y = df['Class'] # y is output\n",
    "y[y==1]=-1\n",
    "y[y==0]=1\n",
    "label=-y"
   ]
  },
  {
   "cell_type": "code",
   "execution_count": 111,
   "metadata": {},
   "outputs": [
    {
     "name": "stdout",
     "output_type": "stream",
     "text": [
      "0.371134\n",
      "0.360000\n",
      "0.382979\n",
      "0.997560\n",
      "0.279369\n",
      "\n",
      "\n",
      "0.285714\n",
      "0.187919\n",
      "0.595745\n",
      "0.994400\n",
      "0.279369\n",
      "\n",
      "\n",
      "0.228956\n",
      "0.136000\n",
      "0.723404\n",
      "0.990840\n",
      "0.279369\n",
      "\n",
      "\n",
      "0.180095\n",
      "0.101333\n",
      "0.808511\n",
      "0.986160\n",
      "0.279369\n",
      "\n",
      "\n",
      "0.138940\n",
      "0.076000\n",
      "0.808511\n",
      "0.981160\n",
      "0.279369\n",
      "\n",
      "\n",
      "0.113095\n",
      "0.060800\n",
      "0.808511\n",
      "0.976160\n",
      "0.279369\n",
      "\n",
      "\n"
     ]
    }
   ],
   "source": [
    "for cont in [0.002, 0.006, 0.01, 0.015, 0.02, 0.025]:\n",
    "    b = IsolationForest(max_samples = len(X), contamination = cont, n_estimators=100, random_state=1) # Fitting the model.\n",
    "    pred  = -b.fit_predict(X) # Prediction using trained model.\n",
    "    # plot_conf_mat(label, pred)\n",
    "    # print('%f'%cont)\n",
    "    print('%f'%f1_score(label, pred))\n",
    "    print('%f'%precision_score(label, pred))\n",
    "    print('%f'%recall_score(label, pred))\n",
    "    print('%f'%accuracy_score(label, pred))\n",
    "    print('%f'%average_precision_score(y, -b.score_samples(X), pos_label=-1))\n",
    "    print('\\n')\n"
   ]
  },
  {
   "cell_type": "code",
   "execution_count": null,
   "metadata": {},
   "outputs": [],
   "source": []
  }
 ],
 "metadata": {
  "interpreter": {
   "hash": "8624ca6a4e73f27194f561a9546fb354a83b38737cc3b80080fe7d79610aa990"
  },
  "kernelspec": {
   "display_name": "Python 3.9.7 64-bit ('base': conda)",
   "language": "python",
   "name": "python3"
  },
  "language_info": {
   "codemirror_mode": {
    "name": "ipython",
    "version": 3
   },
   "file_extension": ".py",
   "mimetype": "text/x-python",
   "name": "python",
   "nbconvert_exporter": "python",
   "pygments_lexer": "ipython3",
   "version": "3.9.7"
  },
  "orig_nbformat": 4
 },
 "nbformat": 4,
 "nbformat_minor": 2
}
