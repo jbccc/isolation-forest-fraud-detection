{
 "cells": [
  {
   "cell_type": "code",
   "execution_count": 3,
   "metadata": {},
   "outputs": [],
   "source": [
    "import numpy as np\n",
    "import pandas as pd\n",
    "from sklearn.ensemble import IsolationForest as IF\n",
    "from sklearn.datasets import fetch_openml\n",
    "from sklearn.model_selection import train_test_split, GridSearchCV\n",
    "from torchvision import datasets\n",
    "from sklearn.metrics import f1_score, make_scorer, confusion_matrix, ConfusionMatrixDisplay, average_precision_score, precision_recall_curve\n",
    "from sklearn.model_selection import GridSearchCV\n",
    "import matplotlib.pyplot as plt"
   ]
  },
  {
   "cell_type": "code",
   "execution_count": 10,
   "metadata": {},
   "outputs": [],
   "source": [
    "def plot_conf_mat(label, pred):\n",
    "    font = {'family' : 'normal', 'weight' : 'bold', 'size'   : 20}\n",
    "    plt.rc('font', **font)\n",
    "    disp = ConfusionMatrixDisplay(confusion_matrix=confusion_matrix(label, pred),display_labels=['frauds', 'normal'])\n",
    "    disp.plot(colorbar=False)\n",
    "    plt.show()"
   ]
  },
  {
   "cell_type": "code",
   "execution_count": 5,
   "metadata": {},
   "outputs": [
    {
     "data": {
      "text/plain": [
       "0.0018835410571875126"
      ]
     },
     "execution_count": 5,
     "metadata": {},
     "output_type": "execute_result"
    }
   ],
   "source": [
    "train = pd.read_csv('cc_test.csv')\n",
    "Y = train.get('Class')\n",
    "Y=Y.replace(1,-1)\n",
    "Y=Y.replace(0,1)\n",
    "X = train.drop('Class', axis=1)\n",
    "cont=Y.value_counts()\n",
    "cont=cont[-1]/cont[1]\n",
    "cont"
   ]
  },
  {
   "cell_type": "code",
   "execution_count": null,
   "metadata": {},
   "outputs": [],
   "source": [
    "model = IF(random_state=47)\n",
    "\n",
    "param_grid = {'n_estimators': [1000, 1500], \n",
    "              'max_samples': [10], \n",
    "              'contamination': ['auto', 0.0001, 0.0002], \n",
    "              'max_features': [10, 15], \n",
    "              'bootstrap': [True], \n",
    "              'n_jobs': [-1]}\n",
    "\n",
    "grid_search = GridSearchCV(model, \n",
    "    param_grid,\n",
    "    scoring=\"neg_mean_squared_error\", \n",
    "    refit=True,\n",
    "    cv=10, \n",
    "    return_train_score=True\n",
    ")\n",
    "best_model = grid_search.fit(X, Y)"
   ]
  },
  {
   "cell_type": "code",
   "execution_count": 11,
   "metadata": {},
   "outputs": [
    {
     "data": {
      "image/png": "[encoded data removed]",
      "text/plain": [
       "<Figure size 432x288 with 1 Axes>"
      ]
     },
     "metadata": {
      "needs_background": "light"
     },
     "output_type": "display_data"
    }
   ],
   "source": [
    "clf = IF(random_state=1,contamination=0.04,n_estimators=88, max_samples=len(X), max_features=20, n_jobs=-1)\n",
    "predictY = clf.fit_predict(X)\n",
    "plot_conf_mat(Y, predictY)"
   ]
  },
  {
   "cell_type": "code",
   "execution_count": null,
   "metadata": {},
   "outputs": [
    {
     "data": {
      "text/plain": [
       "0.000980664056784179"
      ]
     },
     "execution_count": 125,
     "metadata": {},
     "output_type": "execute_result"
    }
   ],
   "source": [
    "# precision, recall, thresholds=precision_recall_curve(Y, abs(clf.score_samples(X)), pos_label=predictY)\n",
    "average_precision_score(Y, clf.decision_function(X), pos_label=-1)"
   ]
  },
  {
   "cell_type": "code",
   "execution_count": null,
   "metadata": {},
   "outputs": [
    {
     "data": {
      "text/plain": [
       "(23993, 40, 7, 960)"
      ]
     },
     "execution_count": 123,
     "metadata": {},
     "output_type": "execute_result"
    }
   ],
   "source": [
    "true_pos = len(\n",
    "    [x for x in range(len(predictY)) if (predictY[x]==-1 and Y[x] == -1)]\n",
    ")\n",
    "false_pos = len(\n",
    "    [x for x in range(len(predictY)) if (predictY[x]==-1 and Y[x] == 1)]\n",
    ")\n",
    "true_neg = len(\n",
    "    [x for x in range(len(predictY)) if (predictY[x]==1 and Y[x] == 1)]\n",
    ")\n",
    "false_neg = len(\n",
    "    [x for x in range(len(predictY)) if (predictY[x]==1 and Y[x] == -1)]\n",
    ")\n",
    "true_neg, true_pos, false_neg, false_pos\n"
   ]
  },
  {
   "cell_type": "code",
   "execution_count": null,
   "metadata": {},
   "outputs": [
    {
     "data": {
      "text/plain": [
       "(0.0764087870105062, 0.04, 0.851063829787234, 0.96132)"
      ]
     },
     "execution_count": 124,
     "metadata": {},
     "output_type": "execute_result"
    }
   ],
   "source": [
    "#F1-score\n",
    "\n",
    "recall = true_pos/(true_pos+false_neg)\n",
    "precision = true_pos/(true_pos+false_pos)\n",
    "accurracy = (true_pos+true_neg)/len(predictY)\n",
    "\n",
    "2*precision*recall/(precision+recall), precision, recall, accurracy\n"
   ]
  },
  {
   "cell_type": "code",
   "execution_count": null,
   "metadata": {},
   "outputs": [],
   "source": []
  }
 ],
 "metadata": {
  "interpreter": {
   "hash": "8624ca6a4e73f27194f561a9546fb354a83b38737cc3b80080fe7d79610aa990"
  },
  "kernelspec": {
   "display_name": "Python 3.8.10 64-bit ('base': conda)",
   "language": "python",
   "name": "python3"
  },
  "language_info": {
   "codemirror_mode": {
    "name": "ipython",
    "version": 3
   },
   "file_extension": ".py",
   "mimetype": "text/x-python",
   "name": "python",
   "nbconvert_exporter": "python",
   "pygments_lexer": "ipython3",
   "version": "3.9.7"
  },
  "orig_nbformat": 4
 },
 "nbformat": 4,
 "nbformat_minor": 2
}
